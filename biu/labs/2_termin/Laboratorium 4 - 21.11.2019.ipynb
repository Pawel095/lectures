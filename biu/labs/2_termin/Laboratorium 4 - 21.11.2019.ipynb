{
 "cells": [
  {
   "cell_type": "markdown",
   "metadata": {},
   "source": [
    "# Laboratorium 4 Strona do zarządzania produktem - gry planszowe [13 pkt]\n",
    "* brak any\n",
    "* brak modeli danych wpisanych tak po prostu - wszystko powinno posiadać typ / interfejs / klasę [1 pkt]\n",
    "* użycie template forms [1 pkt]\n",
    "* użytkownik wprowadza swój wiek gdy przegląda stronę w formie liczby [1 pkt]\n",
    "* osobny widok do dodawania produktu [1 pkt]\n",
    "* użycie validatorów - min. 3 różnych [1 pkt]\n",
    "* dodanie widoku z szczegółami produktu na podstawie ID [1 pkt]\n",
    "* dodanie guarda z podglądaniem gier planszowych, który wymaga wieku +18 [1 pkt]\n",
    "* dodanie atrybutów liczba graczy, wiek, czas gry, waga, losowość interakcja, złożoność, kategoria, wydawca, projektant, język wydania [2 pkt]\n",
    "* stworzenie prostego podsumowania w formie wykresu słupkowego dla ilości:\n",
    "    * losowości gier [1 pkt]\n",
    "    * kategorii [1 pkt]\n",
    "    * złożoności [1 pkt]\n",
    "    * liczby graczy [1 pkt]\n",
    " \n",
    "\n"
   ]
  }
 ],
 "metadata": {
  "kernelspec": {
   "display_name": "Python 2",
   "language": "python",
   "name": "python2"
  },
  "language_info": {
   "codemirror_mode": {
    "name": "ipython",
    "version": 2
   },
   "file_extension": ".py",
   "mimetype": "text/x-python",
   "name": "python",
   "nbconvert_exporter": "python",
   "pygments_lexer": "ipython2",
   "version": "2.7.15"
  }
 },
 "nbformat": 4,
 "nbformat_minor": 2
}
