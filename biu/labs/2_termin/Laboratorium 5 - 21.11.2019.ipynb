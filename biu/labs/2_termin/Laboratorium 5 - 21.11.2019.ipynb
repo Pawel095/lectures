{
 "cells": [
  {
   "cell_type": "markdown",
   "metadata": {},
   "source": [
    "# RxJS [8 pkt]\n",
    "* Zapoznaj się z dokumentacją API:  https://dog.ceo/dog-api/documentation/\n",
    "* brak any\n",
    "* stworzenie typu dla response'a [1 pkt]\n",
    "* wykorzystanie operatorów (pipe, map, filter...) [1 pkt]\n",
    "* stworzenie wewnętrznego modelu dla obiektu domenowego [1 pkt]\n",
    "* stwórz widok pokazujący losowy obrazek psa na kliknięcie [1 pkt]\n",
    "* stwórz widok wypisujący wszystkie rasy psów [1 pkt]\n",
    "* stwórz widok, który dla danej rasy psów pokaże losowy obrazek z danej rasy [1 pkt]\n",
    "* stwórz widok, który synchronizuje obrazy z wybranej liczby ras (rasy do wyboru za pomocą checkboxa)  - wyświetli widok po pobraniu wszystkich danych za pomocą operatorów z rxJS [1 pkt]\n"
   ]
  }
 ],
 "metadata": {
  "kernelspec": {
   "display_name": "Python 2",
   "language": "python",
   "name": "python2"
  },
  "language_info": {
   "codemirror_mode": {
    "name": "ipython",
    "version": 2
   },
   "file_extension": ".py",
   "mimetype": "text/x-python",
   "name": "python",
   "nbconvert_exporter": "python",
   "pygments_lexer": "ipython2",
   "version": "2.7.15"
  }
 },
 "nbformat": 4,
 "nbformat_minor": 2
}
