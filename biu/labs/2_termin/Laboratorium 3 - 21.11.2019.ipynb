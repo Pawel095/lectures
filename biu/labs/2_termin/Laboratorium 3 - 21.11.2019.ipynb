{
 "cells": [
  {
   "cell_type": "markdown",
   "metadata": {},
   "source": [
    "# Kalkulator zużycia prądu [16 pkt]\n",
    "\n",
    "Zużycie prądu wylicza się na podstawie:\n",
    "\n",
    "1 kW = 1000 W\n",
    "Czas pracy urządzenia (w H) * W\n",
    "\n",
    "Suma wszystkich energii prądu * koszt za 1 kWh\n",
    "\n",
    "* podział na komponenty (rodzic, dzieci, widoki) [1 pkt]\n",
    "* wydzielenie struktur danych do modeli [1 pkt]\n",
    "* wykorzystanie komunikacji rodzic <-> dziecko [1 pkt] \n",
    "* poprawne typowanie (brak :any) [1 pkt]\n",
    "* Komponent do zapisywania urządzeń (Nazwa, czas pracy dziennie, zużycie prądu w W) [1 pkt]\n",
    "* Wyświetlenie tabeli ze wszystkimi urządzeniami [1 pkt]\n",
    "* Możliwość wpisania stawki za 1 kW [1 pkt]\n",
    "* Wyliczenie dziennego zużycia prądu [1 pkt]\n",
    "* Wyliczenie miesięcznego zużycia prądu [1 pkt]\n",
    "* Wyliczenie kosztów dziennych / miesięcznych / rocznych gospodarstwa domowego [1 pkt]\n",
    "* Dodanie możliwości zaznaczenia w którym dniu jakie zużycie prądu jest dla danego urządzenia [1 pkt]\n",
    "* Wykreślenie prostego wykresu słupkowego z zużyciem prądu na dany dzień tygodnia (pon, wtorek, środa, czwartek, piątek, sobota, niedziela) [4 pkt]\n"
   ]
  }
 ],
 "metadata": {
  "kernelspec": {
   "display_name": "Python 2",
   "language": "python",
   "name": "python2"
  },
  "language_info": {
   "codemirror_mode": {
    "name": "ipython",
    "version": 2
   },
   "file_extension": ".py",
   "mimetype": "text/x-python",
   "name": "python",
   "nbconvert_exporter": "python",
   "pygments_lexer": "ipython2",
   "version": "2.7.15"
  }
 },
 "nbformat": 4,
 "nbformat_minor": 2
}
