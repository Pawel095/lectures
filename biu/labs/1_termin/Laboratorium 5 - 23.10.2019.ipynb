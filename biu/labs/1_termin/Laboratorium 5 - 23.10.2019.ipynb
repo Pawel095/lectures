{
 "cells": [
  {
   "cell_type": "markdown",
   "metadata": {},
   "source": [
    "RxJS [8 pkt]\n",
    "\n",
    "* Zapoznaj się z dokumentacją API: https://age-of-empires-2-api.herokuapp.com/docs/#/ \n",
    "\n",
    "* brak any\n",
    "* stworzenie typu dla response'a [1 pkt]\n",
    "* wykorzystanie operatorów (pipe, map, filter...) [1 pkt]\n",
    "* stworzenie wewnętrznego modelu dla obiektu domenowego [1 pkt]\n",
    "* stwórz widok wypisujący wszystkie cywilizacje [1 pkt]\n",
    "* stwórz przycisk pokazujący jednostki dla danej cywilizacji [1 pkt]\n",
    "* stwórz przycisk pokazujący technologie dla danej cywilizacji [1 pkt]\n",
    "* stwórz widok, który synchronizuje jednostki i technologie - wyświetli widok po pobraniu obu danych za pomocą operatorów z rxJS [1 pkt]\n",
    "* w w/w widoku wyświetl w formie tabeli jednostki i technologie danej cywilizacji [1 pkt]\n"
   ]
  }
 ],
 "metadata": {
  "kernelspec": {
   "display_name": "Python 2",
   "language": "python",
   "name": "python2"
  },
  "language_info": {
   "codemirror_mode": {
    "name": "ipython",
    "version": 2
   },
   "file_extension": ".py",
   "mimetype": "text/x-python",
   "name": "python",
   "nbconvert_exporter": "python",
   "pygments_lexer": "ipython2",
   "version": "2.7.15"
  }
 },
 "nbformat": 4,
 "nbformat_minor": 2
}
