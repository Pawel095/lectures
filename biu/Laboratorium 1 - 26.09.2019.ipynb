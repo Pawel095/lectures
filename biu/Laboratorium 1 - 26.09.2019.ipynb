{
 "cells": [
  {
   "cell_type": "markdown",
   "metadata": {},
   "source": [
    "Korzystająć z flex-box wylayoutować formularz:\n",
    "> Zapoznać się z https://css-tricks.com/snippets/css/a-guide-to-flexbox/\n",
    "<br>\n",
    "> https://www.podatki.gov.pl/media/3604/dt-1a-06-03.pdf\n",
    "<br>\n",
    "> ZAŁĄCZNIK DO DEKLARACJI DT-1 \n",
    "> Strona 2/2."
   ]
  }
 ],
 "metadata": {
  "kernelspec": {
   "display_name": "Javascript (Node.js)",
   "language": "javascript",
   "name": "javascript"
  },
  "language_info": {
   "file_extension": ".js",
   "mimetype": "application/javascript",
   "name": "javascript",
   "version": "10.13.0"
  }
 },
 "nbformat": 4,
 "nbformat_minor": 2
}
