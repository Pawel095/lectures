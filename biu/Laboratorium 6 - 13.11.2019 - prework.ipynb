{
 "cells": [
  {
   "cell_type": "markdown",
   "metadata": {},
   "source": [
    "Reactive Forms \n",
    "\n",
    "Zapoznaj się z API NBP: http://api.nbp.pl/#kursyWalut\n",
    "\n",
    "* brak any\n",
    "* wykorzystaj reactive forms\n",
    "* stwórz validator asynchroniczny - formularz powinien przed wysłaniem pobrać adres IP i wyświetlić w zablokowanym inpucie dla użytkownika\n",
    "* validator asynchroniczny powinien zadziałać dopiero na submit, gdy cała reszta formularza działa\n",
    "* dodaj widok wyświetlający tabelę z dodanymi elementami\n",
    "* stwórz formularz dodawania faktur z możliwością konwersji waluty PLN do EUR / GB / USD\n",
    "* wykorzystaj walidator aby wartości nie mogły być ujemne\n",
    "* stwórz walidator, który będzie sprawdzał czy wpisana waluta jest PLN / EUR / GB / USD\n",
    "* stwórz drugi formularz, w którym dodamy wybrane faktury dodane przez 1 formularz\n",
    "* stwórz walidator, który sprawdzi aby wartość w złotówkach wybranych faktur nie przekroczyła 10 tys. złotych"
   ]
  }
 ],
 "metadata": {
  "kernelspec": {
   "display_name": "Python 2",
   "language": "python",
   "name": "python2"
  },
  "language_info": {
   "codemirror_mode": {
    "name": "ipython",
    "version": 2
   },
   "file_extension": ".py",
   "mimetype": "text/x-python",
   "name": "python",
   "nbconvert_exporter": "python",
   "pygments_lexer": "ipython2",
   "version": "2.7.15"
  }
 },
 "nbformat": 4,
 "nbformat_minor": 2
}
