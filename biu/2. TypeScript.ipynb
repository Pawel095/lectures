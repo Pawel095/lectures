{
 "cells": [
  {
   "cell_type": "markdown",
   "metadata": {
    "slideshow": {
     "slide_type": "slide"
    }
   },
   "source": [
    "# Podstawowe typy"
   ]
  },
  {
   "cell_type": "code",
   "execution_count": null,
   "metadata": {
    "slideshow": {
     "slide_type": "subslide"
    }
   },
   "outputs": [],
   "source": [
    "// Numbers\n",
    "let isDone: boolean = false;\n",
    "const decimal: number = 6;\n",
    "let hex: number = 0xf00d;\n",
    "let binary: number = 0b1010;\n",
    "const octal: number = 0o744;\n",
    "\n",
    "// Strings\n",
    "let color: string = \"blue\";\n",
    "color = 'red';\n"
   ]
  },
  {
   "cell_type": "code",
   "execution_count": null,
   "metadata": {
    "slideshow": {
     "slide_type": "subslide"
    }
   },
   "outputs": [],
   "source": [
    "function templateStringExample(fullName: string): string {\n",
    "    return `Hello, my name is ${ fullName }.`;\n",
    "}\n",
    "\n",
    "console.log(templateStringExample(\"John Doe\"));\n",
    "console.log(templateStringExample(\"John Wick\"));"
   ]
  },
  {
   "cell_type": "code",
   "execution_count": null,
   "metadata": {
    "slideshow": {
     "slide_type": "subslide"
    }
   },
   "outputs": [],
   "source": [
    "// Arrays\n",
    "let list: number[] = [1, 2, 3];\n",
    "let secondList: Array<number> = [1, 2, 3];"
   ]
  },
  {
   "cell_type": "code",
   "execution_count": null,
   "metadata": {
    "slideshow": {
     "slide_type": "subslide"
    }
   },
   "outputs": [],
   "source": [
    "// Tuples\n",
    "let date: [number, number, number];\n",
    "// date = [3, 10, 2019];\n",
    "date = [3, \"ala ma kota\", 2019];\n",
    "\n",
    "console.log(date[0]);\n",
    "\n"
   ]
  },
  {
   "cell_type": "code",
   "execution_count": null,
   "metadata": {
    "slideshow": {
     "slide_type": "subslide"
    }
   },
   "outputs": [],
   "source": [
    "enum DaysOfWeek {\n",
    "    Monday = 1,\n",
    "    Tuesday = 2,\n",
    "    Wednesday = 3,\n",
    "    Thursday = 4,\n",
    "    Friday = 5,\n",
    "    Saturday = 6,\n",
    "    Sunday = 7\n",
    "}\n",
    "\n",
    "\n",
    "let mon: DaysOfWeek = DaysOfWeek.Monday;\n",
    "console.log(\"Monday:\", mon);\n",
    "console.log(\"First comparison:\", mon == 1);\n",
    "console.log(\"Second comparison:\", mon == 2);\n",
    "\n",
    "let monName: string = DaysOfWeek[0];\n",
    "let monNameFrom1: string = DaysOfWeek[1];\n",
    "console.log(monName);\n",
    "console.log(MonNameFrom1);"
   ]
  },
  {
   "cell_type": "code",
   "execution_count": null,
   "metadata": {
    "slideshow": {
     "slide_type": "subslide"
    }
   },
   "outputs": [],
   "source": [
    "enum Tea { black, red, white, green}\n",
    "\n",
    "let blackTea: Tea = Tea.black;\n",
    "let someTea: string = Tea[2];\n",
    "console.log(blackTea);\n",
    "console.log(someTea);"
   ]
  },
  {
   "cell_type": "code",
   "execution_count": null,
   "metadata": {
    "slideshow": {
     "slide_type": "subslide"
    }
   },
   "outputs": [],
   "source": [
    "let someAnyValue: any = \"asldfafdsa\";\n",
    "let someAnyObject: Object = \"Ala ma kota\";\n",
    "\n",
    "console.log(someAnyValue.charAt(2));\n",
    "//console.log(someAnyObject.charAt(3));\n"
   ]
  },
  {
   "cell_type": "code",
   "execution_count": null,
   "metadata": {
    "slideshow": {
     "slide_type": "subslide"
    }
   },
   "outputs": [],
   "source": [
    "function voidFunction(): void {\n",
    "    console.log(\"You know nothing!\");\n",
    "}\n",
    "\n",
    "voidFunction();\n",
    "\n",
    "let beSomeUndefined: undefined = undefined;\n",
    "let beSomeNull: null = null;\n",
    "\n",
    "let someNumber = 10;\n",
    "someNumber = beSomeUndefined;\n",
    "someNumber = beSomeNull;\n",
    "\n",
    "const someConstNumber = 20;\n",
    "someConstNumber = beSomeUndefined;"
   ]
  },
  {
   "cell_type": "markdown",
   "metadata": {
    "slideshow": {
     "slide_type": "slide"
    }
   },
   "source": [
    "# Type Assertions\n",
    "* brak sprawdzania danych\n",
    "* powiedzenie przez programistę: wiem co robię\n"
   ]
  },
  {
   "cell_type": "code",
   "execution_count": null,
   "metadata": {
    "slideshow": {
     "slide_type": "subslide"
    }
   },
   "outputs": [],
   "source": [
    "let someValue: any = \"this is a string\";\n",
    "\n",
    "let strLength: number = (<string>someValue).length;\n",
    "let strLengthAs: number = (someValue as string).length;"
   ]
  },
  {
   "cell_type": "markdown",
   "metadata": {
    "slideshow": {
     "slide_type": "slide"
    }
   },
   "source": [
    "# Destructuring"
   ]
  },
  {
   "cell_type": "code",
   "execution_count": null,
   "metadata": {
    "slideshow": {
     "slide_type": "subslide"
    }
   },
   "outputs": [],
   "source": [
    "let numbers: number[] = [1, 2, 3, 4, 5];\n",
    "let [first, second, third, fourth, fifth] = numbers;\n",
    "console.log(first);\n",
    "console.log(second);\n",
    "console.log(third);\n",
    "console.log(fourth);\n",
    "console.log(fifth);"
   ]
  },
  {
   "cell_type": "code",
   "execution_count": null,
   "metadata": {
    "slideshow": {
     "slide_type": "subslide"
    }
   },
   "outputs": [],
   "source": [
    "function average([first, second, third]: number[]): number {\n",
    "    return (first + second + third) / 3\n",
    "}\n",
    "console.log(average([10, 5, 9]));"
   ]
  },
  {
   "cell_type": "code",
   "execution_count": null,
   "metadata": {
    "slideshow": {
     "slide_type": "subslide"
    }
   },
   "outputs": [],
   "source": [
    "let [monday, ...restOfWeek] = [1, 2, 3, 4, 5, 6, 7];\n",
    "let [blackTea] = [\"black\", \"red\", \"white\", \"green\"];\n",
    "let [, , , fourth, , sixth] = [1, 2, 3, 4, 5, 6, 7, 8];\n",
    "console.log(monday);\n",
    "console.log(restOfWeek);\n",
    "console.log(blackTea);\n",
    "console.log(fourth);\n",
    "console.log(sixth);"
   ]
  },
  {
   "cell_type": "code",
   "execution_count": null,
   "metadata": {
    "slideshow": {
     "slide_type": "subslide"
    }
   },
   "outputs": [],
   "source": [
    "let zwierzeta = {\n",
    "    \"kot\": \"Ala ma kota\", \n",
    "    \"pies\": \"Ala ma psa\", \n",
    "    \"krolik\": \"Ala ma krolita\"\n",
    "};\n",
    "\n",
    "let {kot, pies} = zwierzeta;\n",
    "console.log(kot);\n",
    "console.log(pies);"
   ]
  },
  {
   "cell_type": "markdown",
   "metadata": {
    "slideshow": {
     "slide_type": "slide"
    }
   },
   "source": [
    "# Funkcje"
   ]
  },
  {
   "cell_type": "code",
   "execution_count": null,
   "metadata": {
    "slideshow": {
     "slide_type": "subslide"
    }
   },
   "outputs": [],
   "source": [
    "type SomeType = {\n",
    "    len: number,\n",
    "    value: number,\n",
    "    title: string\n",
    "} \n",
    "function paramsFunction (a: number, b: string, c: SomeType): void {\n",
    "    console.log(a);\n",
    "    console.log(b);\n",
    "    console.log(c);\n",
    "}"
   ]
  },
  {
   "cell_type": "code",
   "execution_count": null,
   "metadata": {
    "slideshow": {
     "slide_type": "subslide"
    }
   },
   "outputs": [],
   "source": [
    "paramsFunction(5, \"ala ma kota\", {\n",
    "    len: 11,\n",
    "    value: 20,\n",
    "    title: \"Ala ma kota\"\n",
    "});"
   ]
  },
  {
   "cell_type": "code",
   "execution_count": null,
   "metadata": {
    "slideshow": {
     "slide_type": "subslide"
    }
   },
   "outputs": [],
   "source": [
    "function withOptionalParameter(a: string, b: number, c?: string): void {\n",
    "    console.log(\"a: \", a);\n",
    "    console.log(b);\n",
    "    console.log(c);\n",
    "}"
   ]
  },
  {
   "cell_type": "code",
   "execution_count": null,
   "metadata": {
    "slideshow": {
     "slide_type": "subslide"
    }
   },
   "outputs": [],
   "source": [
    "withOptionalParameter(\"ala ma kota\", 5);\n",
    "//withOptionalParameter(\"ala ma kota\", 5, \"as;ldkfaj;fklsda\");\n",
    "//withOptionalParameter(\"ala ma kota\")"
   ]
  },
  {
   "cell_type": "code",
   "execution_count": null,
   "metadata": {
    "slideshow": {
     "slide_type": "subslide"
    }
   },
   "outputs": [],
   "source": [
    "function withDefaultValue(a: string, b: number, c: number = 20): void {\n",
    "    console.log(\"a: \", a);\n",
    "    console.log(\"b: \", b);\n",
    "    console.log(\"c: \", c);\n",
    "}"
   ]
  },
  {
   "cell_type": "code",
   "execution_count": null,
   "metadata": {
    "slideshow": {
     "slide_type": "subslide"
    }
   },
   "outputs": [],
   "source": [
    "withDefaultValue(\"ala\", 20);\n",
    "withDefaultValue(\"ma\", 10, 30);"
   ]
  },
  {
   "cell_type": "markdown",
   "metadata": {
    "slideshow": {
     "slide_type": "slide"
    }
   },
   "source": [
    "# Spread operator"
   ]
  },
  {
   "cell_type": "code",
   "execution_count": null,
   "metadata": {
    "slideshow": {
     "slide_type": "subslide"
    }
   },
   "outputs": [],
   "source": [
    "let firstArray = [1, 2, 3];\n",
    "let secondArray = [4, 5];\n",
    "let mergeArray = [...firstArray, ...secondArray];\n",
    "console.log(mergeArray);"
   ]
  },
  {
   "cell_type": "code",
   "execution_count": null,
   "metadata": {
    "slideshow": {
     "slide_type": "subslide"
    }
   },
   "outputs": [],
   "source": [
    "let firstObject = {\n",
    "    \"zwierze\": \"kot\",\n",
    "    \"cena\": 20\n",
    "};\n",
    "\n",
    "let secondObject = {\n",
    "    \"zwierze\": \"pies\",\n",
    "    \"drugaCenta\": 30\n",
    "\n",
    "};\n",
    "\n",
    "let thirdObject = {\n",
    "    ...firstObject,\n",
    "    ...secondObject\n",
    "};\n",
    "\n",
    "console.log(thirdObject);"
   ]
  },
  {
   "cell_type": "code",
   "execution_count": null,
   "metadata": {
    "slideshow": {
     "slide_type": "subslide"
    }
   },
   "outputs": [],
   "source": [
    "class Point {\n",
    "   x = 10;\n",
    "   y = 20;\n",
    "   foo () {\n",
    "      return this.x * this.y; \n",
    "   }\n",
    "}\n",
    "\n",
    "let p = new Point();\n",
    "let clone = { ...p};\n",
    "console.log(clone);\n",
    "console.log(clone.x);\n",
    "//console.log(clone.foo());"
   ]
  },
  {
   "cell_type": "markdown",
   "metadata": {
    "slideshow": {
     "slide_type": "slide"
    }
   },
   "source": [
    "# Interfaces"
   ]
  },
  {
   "cell_type": "code",
   "execution_count": null,
   "metadata": {
    "slideshow": {
     "slide_type": "subslide"
    }
   },
   "outputs": [],
   "source": [
    "interface Zwierze {\n",
    "    ala: string,\n",
    "    zwierze: string,\n",
    "}\n",
    "\n",
    "\n",
    "let a: Zwierze;"
   ]
  },
  {
   "cell_type": "code",
   "execution_count": null,
   "metadata": {
    "slideshow": {
     "slide_type": "subslide"
    }
   },
   "outputs": [],
   "source": [
    "a = {ala: \"ala\", zweirze: \"pies\"};"
   ]
  },
  {
   "cell_type": "code",
   "execution_count": null,
   "metadata": {
    "slideshow": {
     "slide_type": "subslide"
    }
   },
   "outputs": [],
   "source": [
    "a = {ala: \"ala\", zwierze: \"pies\"};"
   ]
  },
  {
   "cell_type": "code",
   "execution_count": null,
   "metadata": {
    "slideshow": {
     "slide_type": "subslide"
    }
   },
   "outputs": [],
   "source": [
    "interface FooObjectInterface {\n",
    "    [propName: string]: any;\n",
    "}\n",
    "\n",
    "let someObject: FooObjectInterface = {\n",
    "    \"asdflasfasd\": 20,\n",
    "    \"asdflkasf\": 10\n",
    "}"
   ]
  },
  {
   "cell_type": "code",
   "execution_count": null,
   "metadata": {
    "slideshow": {
     "slide_type": "subslide"
    }
   },
   "outputs": [],
   "source": [
    "interface IFooFunc {\n",
    "    (val: number): string\n",
    "}\n",
    "\n",
    "let fooFunc: IFooFunc;"
   ]
  },
  {
   "cell_type": "code",
   "execution_count": null,
   "metadata": {
    "slideshow": {
     "slide_type": "subslide"
    }
   },
   "outputs": [],
   "source": [
    "fooFunc = function (val: string): boolean {\n",
    "    return true;\n",
    "}"
   ]
  },
  {
   "cell_type": "code",
   "execution_count": null,
   "metadata": {
    "slideshow": {
     "slide_type": "subslide"
    }
   },
   "outputs": [],
   "source": [
    "interface IFooArray {\n",
    "    [index: number]: boolean\n",
    "}\n",
    "\n",
    "let someArray: IFooArray = [true, true, false, false];"
   ]
  },
  {
   "cell_type": "code",
   "execution_count": null,
   "metadata": {
    "slideshow": {
     "slide_type": "subslide"
    }
   },
   "outputs": [],
   "source": [
    "let someAnotherArray: IFooArray = [true, true, 20, false];"
   ]
  },
  {
   "cell_type": "markdown",
   "metadata": {
    "slideshow": {
     "slide_type": "slide"
    }
   },
   "source": [
    "# Class"
   ]
  },
  {
   "cell_type": "code",
   "execution_count": null,
   "metadata": {
    "slideshow": {
     "slide_type": "subslide"
    }
   },
   "outputs": [],
   "source": [
    "class Example {\n",
    "    x: number;\n",
    "    y: number;\n",
    "    \n",
    "    private _propertyValueHolder: number = 3;\n",
    "    protected _someProtected: number = 1;\n",
    "\n",
    "    \n",
    "    constructor(x: number, y: number) {\n",
    "        this.x = x;\n",
    "        this.y = y;\n",
    "    }\n",
    "    \n",
    "    get sumOfTwo(): number {\n",
    "        return this.x + this.y;\n",
    "    }\n",
    "    \n",
    "    get plusTen(): number {\n",
    "        return this._propertyValueHolder + 10; \n",
    "    }\n",
    "    \n",
    "    set plusTen(val: number) {\n",
    "        this._propertyValueHolder = val;\n",
    "    }\n",
    "    \n",
    "    foo(): number {\n",
    "        return this.x * this.y;\n",
    "    }\n",
    "    \n",
    "}"
   ]
  },
  {
   "cell_type": "code",
   "execution_count": null,
   "metadata": {
    "slideshow": {
     "slide_type": "subslide"
    }
   },
   "outputs": [],
   "source": [
    "let aSomeClass = new Example(1, 1);\n",
    "console.log(aSomeClass.sumOfTwo);\n",
    "console.log(aSomeClass.plusTen);\n",
    "aSomeClass.plusTen = 100;\n",
    "console.log(aSomeClass.plusTen);"
   ]
  },
  {
   "cell_type": "code",
   "execution_count": null,
   "metadata": {
    "slideshow": {
     "slide_type": "subslide"
    }
   },
   "outputs": [],
   "source": [
    "class Example3D extends Example {\n",
    "    z: number;\n",
    "    \n",
    "    constructor(x, y, z) {\n",
    "        super(x, y);\n",
    "        this.z = z;\n",
    "    }\n",
    "    \n",
    "    foo(): number {\n",
    "        return super.foo() * this.z;\n",
    "    }\n",
    "}"
   ]
  },
  {
   "cell_type": "code",
   "execution_count": null,
   "metadata": {
    "slideshow": {
     "slide_type": "subslide"
    }
   },
   "outputs": [],
   "source": [
    "let someExample3DClass = new Example3D(1, 2, 3);\n",
    "console.log(someExample3DClass.z);\n",
    "console.log(someExample3DClass.foo());"
   ]
  },
  {
   "cell_type": "code",
   "execution_count": null,
   "metadata": {
    "slideshow": {
     "slide_type": "subslide"
    }
   },
   "outputs": [],
   "source": [
    "abstract class Point3D {\n",
    "    x: number;\n",
    "    y: number;\n",
    "    abstract field(): number;\n",
    "    print(): string {\n",
    "        console.log(this.x);\n",
    "    }\n",
    "}"
   ]
  },
  {
   "cell_type": "markdown",
   "metadata": {
    "slideshow": {
     "slide_type": "slide"
    }
   },
   "source": [
    "# Generics"
   ]
  },
  {
   "cell_type": "code",
   "execution_count": null,
   "metadata": {
    "slideshow": {
     "slide_type": "subslide"
    }
   },
   "outputs": [],
   "source": [
    "function foo<T>(someParam: T): T {\n",
    "    return someParam;\n",
    "}"
   ]
  },
  {
   "cell_type": "code",
   "execution_count": null,
   "metadata": {
    "slideshow": {
     "slide_type": "subslide"
    }
   },
   "outputs": [],
   "source": [
    "let someTypedFoo = foo<string>(\"alskdjadsa\");\n",
    "console.log(someTypedFoo)"
   ]
  },
  {
   "cell_type": "code",
   "execution_count": null,
   "metadata": {
    "slideshow": {
     "slide_type": "subslide"
    }
   },
   "outputs": [],
   "source": [
    "function fooArray<T>(someParam: T[]): T[]{\n",
    "    return someParam;\n",
    "}"
   ]
  },
  {
   "cell_type": "code",
   "execution_count": null,
   "metadata": {
    "slideshow": {
     "slide_type": "subslide"
    }
   },
   "outputs": [],
   "source": [
    "interface GenericPoint<T> {\n",
    "    (x: T, y: T): T;\n",
    "}\n",
    "\n",
    "function pointFunction<T>(x: T, y: T): T {\n",
    "    return x;\n",
    "}\n",
    "\n",
    "let myPointFunction: GenericPoint<number> = pointFunction;"
   ]
  },
  {
   "cell_type": "code",
   "execution_count": null,
   "metadata": {
    "slideshow": {
     "slide_type": "subslide"
    }
   },
   "outputs": [],
   "source": [
    "class GenericPointClass<X, Y, Z> {\n",
    "    x: X;\n",
    "    y: Y;\n",
    "    z: Z;\n",
    "    \n",
    "    constructor(x: X, y: Y, z: Z) {\n",
    "        this.x = x;\n",
    "        this.y = y;\n",
    "        this.z = z;\n",
    "    }\n",
    "    \n",
    "    putX (val: X) {\n",
    "        this.x = val;\n",
    "    }\n",
    "}"
   ]
  },
  {
   "cell_type": "code",
   "execution_count": null,
   "metadata": {
    "slideshow": {
     "slide_type": "subslide"
    }
   },
   "outputs": [],
   "source": [
    "let genericPointClass = new GenericPointClass<number, string, boolean>(1, \"ala\", true);\n",
    "console.log(genericPointClass.x);\n",
    "console.log(genericPointClass.y);\n",
    "console.log(genericPointClass.z);"
   ]
  }
 ],
 "metadata": {
  "celltoolbar": "Slideshow",
  "kernelspec": {
   "display_name": "Typescript 3.6",
   "language": "typescript",
   "name": "typescript"
  },
  "language_info": {
   "file_extension": ".ts",
   "mimetype": "application/x-typescript",
   "name": "typescript",
   "version": "3.6.3"
  }
 },
 "nbformat": 4,
 "nbformat_minor": 2
}
