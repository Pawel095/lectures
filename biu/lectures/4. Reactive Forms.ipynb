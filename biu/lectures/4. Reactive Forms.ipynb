{
 "cells": [
  {
   "cell_type": "markdown",
   "metadata": {
    "slideshow": {
     "slide_type": "slide"
    }
   },
   "source": [
    "# Reactive forms\n",
    "* API streamowe\n",
    "* Immutability\n",
    "* Synchroniczny dostęp do danych z formularza\n"
   ]
  },
  {
   "cell_type": "code",
   "execution_count": null,
   "metadata": {
    "slideshow": {
     "slide_type": "subslide"
    }
   },
   "outputs": [],
   "source": [
    "import { ReactiveFormsModule } from '@angular/forms';\n",
    "\n",
    "@NgModule({\n",
    "  imports: [\n",
    "    // other imports ...\n",
    "    ReactiveFormsModule\n",
    "  ],\n",
    "})\n",
    "export class AppModule { }"
   ]
  },
  {
   "cell_type": "code",
   "execution_count": null,
   "metadata": {
    "slideshow": {
     "slide_type": "subslide"
    }
   },
   "outputs": [],
   "source": [
    "export class ExampleComponent {\n",
    "    name = new FormControl('')\n",
    "}"
   ]
  },
  {
   "cell_type": "markdown",
   "metadata": {
    "slideshow": {
     "slide_type": "subslide"
    }
   },
   "source": [
    "* dyrektywa [formControl]=\"nazwa\"\n",
    "* setValue() nadpisuje wartość w kontrolce\n",
    "* patchValue() zmienia propertiesy z obiektu\n",
    "* reset()\n",
    "* value\n",
    "* Validatory\n",
    "* valueChanges (Observable)\n",
    "* `new FormControl('', { updateOn: 'submit' | 'blur' });`"
   ]
  },
  {
   "cell_type": "markdown",
   "metadata": {
    "slideshow": {
     "slide_type": "slide"
    }
   },
   "source": [
    "* możliwość grupowania przez FormGroup\n",
    "* możliwość zagnieżdżania FormGroup w FormGroup\n",
    "* przypisawnie w HTML do grupy przez formControlName=\"nazwa\""
   ]
  },
  {
   "cell_type": "code",
   "execution_count": null,
   "metadata": {
    "slideshow": {
     "slide_type": "subslide"
    }
   },
   "outputs": [],
   "source": [
    "someForm = new FormGroup({\n",
    "    exampleValue: new FormControl(''),\n",
    "    nextExampleValue: new FormControl(''),\n",
    "});"
   ]
  },
  {
   "cell_type": "code",
   "execution_count": null,
   "metadata": {
    "slideshow": {
     "slide_type": "subslide"
    }
   },
   "outputs": [],
   "source": [
    "  nestedForm = new FormGroup({\n",
    "    rootControl: new FormControl(''),\n",
    "    nestedGroup: new FormGroup({\n",
    "      nestedControl: new FormControl(''),\n",
    "    })\n",
    "  });"
   ]
  },
  {
   "cell_type": "code",
   "execution_count": null,
   "metadata": {
    "slideshow": {
     "slide_type": "subslide"
    }
   },
   "outputs": [],
   "source": [
    "<form [formGroup]=\"nestedForm\">\n",
    "    <label>\n",
    "        Root\n",
    "        <input type=\"text\" formControlName=\"rootControl\"\n",
    "    </label>\n",
    "    \n",
    "    <div class=\"nested-level-1\" formGroupName=\"nestedGroup\">\n",
    "        <label>\n",
    "           Nested control\n",
    "           <input type=\"text\" formControlName=\"nestedControl\">\n",
    "        </label>\n",
    "    </div>\n",
    "</form>"
   ]
  },
  {
   "cell_type": "markdown",
   "metadata": {
    "slideshow": {
     "slide_type": "slide"
    }
   },
   "source": [
    "* Sync Validators\n",
    "* Async Validators"
   ]
  },
  {
   "cell_type": "code",
   "execution_count": null,
   "metadata": {
    "slideshow": {
     "slide_type": "subslide"
    }
   },
   "outputs": [],
   "source": [
    "  constructor(private fb: FormBuilder) { }\n",
    "  \n",
    "  nestedForm = this.fb.group({\n",
    "      rootControl: ['', Validators.required],\n",
    "      nestedGroup: this.fb.group({\n",
    "          nestedControl: ['']\n",
    "      })\n",
    "  })"
   ]
  },
  {
   "cell_type": "code",
   "execution_count": null,
   "metadata": {
    "slideshow": {
     "slide_type": "subslide"
    }
   },
   "outputs": [],
   "source": [
    "export function customValidator(someParam: Number): ValidatorFn {\n",
    "  return (control: AbstractControl): {[key: string]: any} | null => {\n",
    "    const performedValidation = control.value > someParam;\n",
    "    return performedValidation ? {'performedValidation': {value: control.value}} : null;\n",
    "  };\n",
    "}"
   ]
  },
  {
   "cell_type": "code",
   "execution_count": null,
   "metadata": {
    "slideshow": {
     "slide_type": "subslide"
    }
   },
   "outputs": [],
   "source": [
    "const formGroup = new FormGroup({\n",
    "  'max': new FormControl(),\n",
    "  'min': new FormControl()\n",
    "}, { validators: rangeValidator });"
   ]
  },
  {
   "cell_type": "code",
   "execution_count": null,
   "metadata": {
    "slideshow": {
     "slide_type": "subslide"
    }
   },
   "outputs": [],
   "source": [
    "/** A hero's name can't match the hero's alter ego */\n",
    "export const identityRevealedValidator: ValidatorFn = (control: FormGroup): ValidationErrors | null => {\n",
    "  const max = control.get('max');\n",
    "  const min = control.get('min');\n",
    "\n",
    "  return max > min ? { 'range': false } : null;\n",
    "};"
   ]
  }
 ],
 "metadata": {
  "celltoolbar": "Slideshow",
  "kernelspec": {
   "display_name": "Typescript 3.6",
   "language": "typescript",
   "name": "typescript"
  },
  "language_info": {
   "file_extension": ".ts",
   "mimetype": "application/x-typescript",
   "name": "typescript",
   "version": "3.6.3"
  }
 },
 "nbformat": 4,
 "nbformat_minor": 2
}
